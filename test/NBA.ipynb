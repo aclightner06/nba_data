{
 "cells": [
  {
   "cell_type": "code",
   "execution_count": 8,
   "id": "1b83a669-1992-4161-8816-0b68cf4b277e",
   "metadata": {},
   "outputs": [],
   "source": [
    "#####################\n",
    "#  Import Packages  #\n",
    "#####################"
   ]
  },
  {
   "cell_type": "code",
   "execution_count": 9,
   "id": "ccdc8a1d-1eb5-4ef8-b187-a633cec2b30b",
   "metadata": {},
   "outputs": [],
   "source": [
    "import pandas as pd\n",
    "import numpy as np\n",
    "import re\n",
    "import os\n",
    "import datetime as dt\n",
    "from bs4 import BeautifulSoup, Comment\n",
    "import requests"
   ]
  },
  {
   "cell_type": "code",
   "execution_count": 10,
   "id": "0e2cdfce-70b4-4392-b6f5-995c3cde8638",
   "metadata": {},
   "outputs": [],
   "source": [
    "###############\n",
    "#  NBA Class  #\n",
    "###############"
   ]
  },
  {
   "cell_type": "code",
   "execution_count": 11,
   "id": "f81ab177-2cda-42da-8082-57574fa7fc01",
   "metadata": {},
   "outputs": [],
   "source": [
    "class NBA:\n",
    "    \"\"\"\n",
    "    NBA - Documentation goes here\n",
    "    \"\"\"\n",
    "    \n",
    "    def __init__(self, url, table_id, column_schema, row_schema, data_schema,\n",
    "                 use_links=[], add_links={}, name_change={}, filter_rows = {}, ):\n",
    "        self.url = url\n",
    "        self.table_id = table_id\n",
    "        self.use_links = use_links\n",
    "        self.add_links = add_links\n",
    "        self.column_schema = column_schema\n",
    "        self.row_schema = row_schema\n",
    "        self.data_schema = data_schema\n",
    "        self.name_change = name_change\n",
    "        self.filter_rows = filter_rows\n",
    "        \n",
    "        try:\n",
    "            self.get_soup()\n",
    "            self.get_columns()\n",
    "            self.get_rows()               \n",
    "            self.get_data()\n",
    "            self.add_link()\n",
    "            self.filter_by_value()\n",
    "        except:\n",
    "            self.df = pd.DataFrame()\n",
    "\n",
    "    def get_soup(self):\n",
    "\n",
    "        r = requests.get(self.url)\n",
    "        soup = BeautifulSoup(r.content, 'lxml')\n",
    "        self.soup = soup.find('table', {\"id\": self.table_id})\n",
    "        \n",
    "    def get_columns(self):\n",
    "\n",
    "        base=\"self.soup\"\n",
    "        add=\".findAll('{}'){}\"\n",
    "\n",
    "        for i in range(len(self.column_schema['column_attrs'])):\n",
    "            if self.column_schema['offset'][i] != None:\n",
    "                base = f\"{base}{add.format(self.column_schema['column_attrs'][i],'['+str(self.column_schema['offset'][i])+']')}\"\n",
    "            else:\n",
    "                base = f\"{base}{add.format(self.column_schema['column_attrs'][i],'')}\"\n",
    "\n",
    "        loop = f\"[x.getText() for x in {base}][{self.column_schema['shift']}:]\"\n",
    "\n",
    "        self.columns = eval(loop)\n",
    "\n",
    "        for k, v in self.name_change.items():\n",
    "            self.columns[k] = v   \n",
    "            \n",
    "    def get_rows(self):\n",
    "\n",
    "        base=\"self.soup\"\n",
    "        add=\".findAll('{}'){}\"\n",
    "\n",
    "        for i in range(len(self.row_schema['row_attrs'])):\n",
    "            if self.row_schema['row_offset'][i] != None:\n",
    "                base = f\"{base}{add.format(self.row_schema['row_attrs'][i], '['+str(self.row_schema['row_offset'][i])+']')}\"\n",
    "            else:\n",
    "                base = f\"{base}{add.format(self.row_schema['row_attrs'][i], '')}\"\n",
    "\n",
    "        self.rows = eval(base)\n",
    "\n",
    "    def get_data(self):\n",
    "\n",
    "        data = [[x.getText() if j not in self.use_links else x.a['href'] \\\n",
    "                 for j, x in enumerate(self.rows[i].findAll(self.data_schema['data_attrs']))][self.data_schema[\"data_offset\"]:] \\\n",
    "                for i in range(len(self.rows))]\n",
    "\n",
    "        max_list_len = max(list(map(lambda x: len(x), data)))\n",
    "        self.data = [self.pad_list(sub,max_list_len) for sub in data if len(sub) > 0]\n",
    "\n",
    "        self.df = pd.DataFrame(data=data, columns=self.columns)\n",
    "        \n",
    "    def add_link(self):\n",
    "\n",
    "        for key, value in self.add_links.items():\n",
    "            self.df[key] = [[x.a['href'] for j,x in enumerate(self.rows[i].findAll(self.data_schema['data_attrs'])) \\\n",
    "                             if j == value][0] for i in range(len(self.data))]  \n",
    "            \n",
    "    def pad_list(self, l,n):\n",
    "        while len(l) < n:\n",
    "            l.append(\"\")\n",
    "        return l\n",
    "    \n",
    "    def filter_by_value(self):\n",
    "        for key, value in self.filter_rows.items():\n",
    "            self.df = self.df[self.df[key] != value].reset_index(drop=True)"
   ]
  },
  {
   "cell_type": "code",
   "execution_count": 12,
   "id": "538794ea-80b2-4b3a-b623-7aab008c338c",
   "metadata": {},
   "outputs": [],
   "source": [
    "###################\n",
    "#  End of script  #\n",
    "###################"
   ]
  },
  {
   "cell_type": "code",
   "execution_count": null,
   "id": "e11ef205-3514-406f-b013-f651707f9e48",
   "metadata": {},
   "outputs": [],
   "source": []
  }
 ],
 "metadata": {
  "environment": {
   "kernel": "venv_nba",
   "name": "common-cpu.m82",
   "type": "gcloud",
   "uri": "gcr.io/deeplearning-platform-release/base-cpu:m82"
  },
  "kernelspec": {
   "display_name": "venv_nba",
   "language": "python",
   "name": "venv_nba"
  },
  "language_info": {
   "codemirror_mode": {
    "name": "ipython",
    "version": 3
   },
   "file_extension": ".py",
   "mimetype": "text/x-python",
   "name": "python",
   "nbconvert_exporter": "python",
   "pygments_lexer": "ipython3",
   "version": "3.7.10"
  }
 },
 "nbformat": 4,
 "nbformat_minor": 5
}
