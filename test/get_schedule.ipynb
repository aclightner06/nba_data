{
 "cells": [
  {
   "cell_type": "markdown",
   "id": "4ce3da7b",
   "metadata": {},
   "source": [
    "### get_schedule"
   ]
  },
  {
   "cell_type": "code",
   "execution_count": 1,
   "id": "dc597276",
   "metadata": {},
   "outputs": [],
   "source": [
    "import threading\n",
    "import time"
   ]
  },
  {
   "cell_type": "code",
   "execution_count": 2,
   "id": "acfac30f-deda-4106-963d-59362cdcd397",
   "metadata": {},
   "outputs": [],
   "source": [
    "import pandas as pd\n",
    "import numpy as np\n",
    "import re\n",
    "import os\n",
    "import datetime as dt\n",
    "from bs4 import BeautifulSoup, Comment\n",
    "import requests\n",
    "\n",
    "###############\n",
    "#  NBA Class  #\n",
    "###############\n",
    "\n",
    "class NBA:\n",
    "    \"\"\"\n",
    "    NBA - Documentation goes here\n",
    "    \"\"\"\n",
    "    \n",
    "    def __init__(self, url, table_id, column_schema, row_schema, data_schema,\n",
    "                 use_links=[], add_links={}, name_change={}, filter_rows = {}, ):\n",
    "        self.url = url\n",
    "        self.table_id = table_id\n",
    "        self.use_links = use_links\n",
    "        self.add_links = add_links\n",
    "        self.column_schema = column_schema\n",
    "        self.row_schema = row_schema\n",
    "        self.data_schema = data_schema\n",
    "        self.name_change = name_change\n",
    "        self.filter_rows = filter_rows\n",
    "        \n",
    "        try:\n",
    "            self.get_soup()\n",
    "            self.get_columns()\n",
    "            self.get_rows()               \n",
    "            self.get_data()\n",
    "            self.add_link()\n",
    "            self.filter_by_value()\n",
    "        except:\n",
    "            self.df = pd.DataFrame()\n",
    "\n",
    "    def get_soup(self):\n",
    "\n",
    "        r = requests.get(self.url)\n",
    "        soup = BeautifulSoup(r.content, 'lxml')\n",
    "        self.soup = soup.find('table', {\"id\": self.table_id})\n",
    "        \n",
    "    def get_columns(self):\n",
    "\n",
    "        base=\"self.soup\"\n",
    "        add=\".findAll('{}'){}\"\n",
    "\n",
    "        for i in range(len(self.column_schema['column_attrs'])):\n",
    "            if self.column_schema['offset'][i] != None:\n",
    "                base = f\"{base}{add.format(self.column_schema['column_attrs'][i],'['+str(self.column_schema['offset'][i])+']')}\"\n",
    "            else:\n",
    "                base = f\"{base}{add.format(self.column_schema['column_attrs'][i],'')}\"\n",
    "\n",
    "        loop = f\"[x.getText() for x in {base}][{self.column_schema['shift']}:]\"\n",
    "\n",
    "        self.columns = eval(loop)\n",
    "\n",
    "        for k, v in self.name_change.items():\n",
    "            self.columns[k] = v   \n",
    "            \n",
    "    def get_rows(self):\n",
    "\n",
    "        base=\"self.soup\"\n",
    "        add=\".findAll('{}'){}\"\n",
    "\n",
    "        for i in range(len(self.row_schema['row_attrs'])):\n",
    "            if self.row_schema['row_offset'][i] != None:\n",
    "                base = f\"{base}{add.format(self.row_schema['row_attrs'][i], '['+str(self.row_schema['row_offset'][i])+']')}\"\n",
    "            else:\n",
    "                base = f\"{base}{add.format(self.row_schema['row_attrs'][i], '')}\"\n",
    "\n",
    "        self.rows = eval(base)\n",
    "\n",
    "    def get_data(self):\n",
    "\n",
    "        data = [[x.getText() if j not in self.use_links else x.a['href'] \\\n",
    "                 for j, x in enumerate(self.rows[i].findAll(self.data_schema['data_attrs']))][self.data_schema[\"data_offset\"]:] \\\n",
    "                for i in range(len(self.rows))]\n",
    "\n",
    "        max_list_len = max(list(map(lambda x: len(x), data)))\n",
    "        self.data = [self.pad_list(sub,max_list_len) for sub in data if len(sub) > 0]\n",
    "\n",
    "        self.df = pd.DataFrame(data=data, columns=self.columns)\n",
    "        \n",
    "    def add_link(self):\n",
    "\n",
    "        for key, value in self.add_links.items():\n",
    "            self.df[key] = [[x.a['href'] for j,x in enumerate(self.rows[i].findAll(self.data_schema['data_attrs']))                              if j == value][0] for i in range(len(self.data))]  \n",
    "            \n",
    "    def pad_list(self, l,n):\n",
    "        while len(l) < n:\n",
    "            l.append(\"\")\n",
    "        return l\n",
    "    \n",
    "    def filter_by_value(self):\n",
    "        for key, value in self.filter_rows.items():\n",
    "            self.df = self.df[self.df[key] != value].reset_index(drop=True)\n",
    "\n",
    "###################\n",
    "#  End of script  #\n",
    "###################"
   ]
  },
  {
   "cell_type": "code",
   "execution_count": 3,
   "id": "25547e1a",
   "metadata": {},
   "outputs": [],
   "source": [
    "def get_schedule(year, month):\n",
    "    \n",
    "    sch_url = f\"https://www.basketball-reference.com/leagues/NBA_{year}_games-{month}.html\"\n",
    "\n",
    "    sch_col_attrs = {\"column_attrs\": ['thead', 'th'], \"shift\": 0, \"offset\": ['0', None]}\n",
    "    sch_row_attrs = {\"row_attrs\": ['tbody', 'tr'], \"row_offset\": ['0', None]}\n",
    "    sch_data_attrs = {\"data_attrs\": ['th', 'td'], \"data_offset\": 0}\n",
    "    \n",
    "    sch = NBA(url = sch_url, \n",
    "              table_id = 'schedule',\n",
    "              column_schema = sch_col_attrs, \n",
    "              row_schema = sch_row_attrs, \n",
    "              data_schema = sch_data_attrs, \n",
    "              name_change = {3: \"PTS_Vis\",5: \"PTS_Home\", 6:\"Boxscore\", 7: \"Overtime\"},\n",
    "              use_links=[6],\n",
    "              filter_rows = {\"Date\": \"Playoffs\"})   \n",
    "\n",
    "    sch.df['season'] = year\n",
    "    \n",
    "    if len(sch.df) > 0:\n",
    "        sch.df.to_csv(f\"data/schedule/{year}_{month}.csv\", index=False)"
   ]
  },
  {
   "cell_type": "code",
   "execution_count": 4,
   "id": "66c8b04c",
   "metadata": {},
   "outputs": [],
   "source": [
    "def collapse_files(folder, save):\n",
    "    \n",
    "    final = pd.DataFrame()\n",
    "    \n",
    "    for file in os.listdir(folder):\n",
    "        if file == \".ipynb_checkpoints\":\n",
    "            continue\n",
    "        final = pd.concat([final, pd.read_csv(f\"{folder}/{file}\")])\n",
    "        os.remove(f\"{folder}/{file}\")\n",
    "    \n",
    "    final.to_csv(f\"{folder}/{save}\", index=False)"
   ]
  },
  {
   "cell_type": "code",
   "execution_count": 5,
   "id": "a52a01a8",
   "metadata": {
    "tags": []
   },
   "outputs": [
    {
     "name": "stdout",
     "output_type": "stream",
     "text": [
      "Getting 2001 NBA data.\n",
      "Getting 2002 NBA data.\n",
      "Getting 2003 NBA data.\n",
      "Getting 2004 NBA data.\n",
      "Getting 2005 NBA data.\n",
      "Getting 2006 NBA data.\n",
      "Getting 2007 NBA data.\n",
      "Getting 2008 NBA data.\n",
      "Getting 2009 NBA data.\n",
      "Getting 2010 NBA data.\n",
      "Getting 2011 NBA data.\n",
      "Getting 2012 NBA data.\n",
      "Getting 2013 NBA data.\n",
      "Getting 2014 NBA data.\n",
      "Getting 2015 NBA data.\n",
      "Getting 2016 NBA data.\n",
      "Getting 2017 NBA data.\n",
      "Getting 2018 NBA data.\n",
      "Getting 2019 NBA data.\n",
      "Getting 2020 NBA data.\n",
      "Getting 2021 NBA data.\n",
      "Getting 2022 NBA data.\n"
     ]
    }
   ],
   "source": [
    "if __name__ == '__main__':\n",
    "    \n",
    "    if not os.path.exists(\"data/schedule\"):\n",
    "        os.makedirs(\"data/schedule\")\n",
    "        \n",
    "    years = list(range(2001, 2023))\n",
    "    \n",
    "    months = [\"october\", \"november\", \"december\", \"january\", \"february\", \"march\", \"april\", \"may\", \"june\"]\n",
    "    \n",
    "    months_2020 = [\"october-2019\", \"november\", \"december\", \"january\", \"february\", \"march\", \"july\",\n",
    "                   \"august\", \"september\", \"october-2020\"]\n",
    "    \n",
    "    months_2021 = [\"december\", \"january\", \"february\", \"march\", \"april\", \"may\", \"june\", \"july\"]\n",
    "    \n",
    "    for year in years:\n",
    "        print(f\"Getting {year} NBA data.\")\n",
    "        \n",
    "        if year == 2021:\n",
    "            loop_months = months_2021\n",
    "        elif year == 2020:\n",
    "            loop_monts = months_2020\n",
    "        else:\n",
    "            loop_months = months\n",
    "        \n",
    "        for month in months:\n",
    "            clean_month = month.replace('-', '')\n",
    "            exec(f\"t_{clean_month} = threading.Thread(target=get_schedule, args=(year, month,))\")\n",
    "            exec(f\"t_{clean_month}.start()\")\n",
    "        for month in months:\n",
    "            exec(f\"t_{clean_month}.join()\")"
   ]
  },
  {
   "cell_type": "code",
   "execution_count": 6,
   "id": "92f22d6e-56d4-40e2-8d2b-a0aee9ecf087",
   "metadata": {},
   "outputs": [],
   "source": [
    "collapse_files(\"data/schedule\", \"nba_schedule.csv\")"
   ]
  },
  {
   "cell_type": "code",
   "execution_count": 7,
   "id": "dcbe47d0-636d-4ccd-8afb-98460a2ca969",
   "metadata": {},
   "outputs": [
    {
     "data": {
      "text/plain": [
       "['nba_schedule.csv', '.ipynb_checkpoints']"
      ]
     },
     "execution_count": 7,
     "metadata": {},
     "output_type": "execute_result"
    }
   ],
   "source": [
    "os.listdir('data/schedule')"
   ]
  },
  {
   "cell_type": "markdown",
   "id": "67339b5d",
   "metadata": {
    "tags": []
   },
   "source": [
    "### test"
   ]
  },
  {
   "cell_type": "code",
   "execution_count": 8,
   "id": "bc57e886",
   "metadata": {},
   "outputs": [],
   "source": [
    "import pandas as pd"
   ]
  },
  {
   "cell_type": "code",
   "execution_count": 9,
   "id": "01403d5a",
   "metadata": {},
   "outputs": [],
   "source": [
    "df = pd.read_csv(\"data/schedule/nba_schedule.csv\")"
   ]
  },
  {
   "cell_type": "code",
   "execution_count": 10,
   "id": "76f86ff9",
   "metadata": {},
   "outputs": [
    {
     "name": "stdout",
     "output_type": "stream",
     "text": [
      "<class 'pandas.core.frame.DataFrame'>\n",
      "RangeIndex: 27920 entries, 0 to 27919\n",
      "Data columns (total 12 columns):\n",
      " #   Column           Non-Null Count  Dtype \n",
      "---  ------           --------------  ----- \n",
      " 0   Date             27920 non-null  object\n",
      " 1   Start (ET)       27920 non-null  object\n",
      " 2   Visitor/Neutral  27920 non-null  object\n",
      " 3   PTS_Vis          27920 non-null  int64 \n",
      " 4   Home/Neutral     27920 non-null  object\n",
      " 5   PTS_Home         27920 non-null  int64 \n",
      " 6   Boxscore         27920 non-null  object\n",
      " 7   Overtime         1694 non-null   object\n",
      " 8   Attend.          27905 non-null  object\n",
      " 9   Arena            27920 non-null  object\n",
      " 10  Notes            49 non-null     object\n",
      " 11  season           27920 non-null  int64 \n",
      "dtypes: int64(3), object(9)\n",
      "memory usage: 2.6+ MB\n"
     ]
    }
   ],
   "source": [
    "df.info()"
   ]
  },
  {
   "cell_type": "code",
   "execution_count": 11,
   "id": "0b25958c-931f-47be-8c06-9df649441ad5",
   "metadata": {},
   "outputs": [
    {
     "data": {
      "text/plain": [
       "2022    1323\n",
       "2014    1319\n",
       "2006    1319\n",
       "2008    1316\n",
       "2016    1316\n",
       "2009    1315\n",
       "2005    1314\n",
       "2013    1314\n",
       "2018    1312\n",
       "2019    1312\n",
       "2010    1312\n",
       "2015    1311\n",
       "2011    1311\n",
       "2007    1309\n",
       "2017    1309\n",
       "2003    1277\n",
       "2004    1271\n",
       "2001    1260\n",
       "2002    1260\n",
       "2021    1163\n",
       "2012    1074\n",
       "2020     903\n",
       "Name: season, dtype: int64"
      ]
     },
     "execution_count": 11,
     "metadata": {},
     "output_type": "execute_result"
    }
   ],
   "source": [
    "df.season.value_counts()"
   ]
  },
  {
   "cell_type": "code",
   "execution_count": 12,
   "id": "3dca2776-e889-425a-8d8e-bc68bbbddd25",
   "metadata": {},
   "outputs": [],
   "source": [
    "df.columns = ['Date', 'Start', 'Visitor', 'PTS_Vis', 'Home',\n",
    "       'PTS_Home', 'Boxscore', 'Overtime', 'Attendance', 'Arena', 'Notes',\n",
    "       'season']"
   ]
  },
  {
   "cell_type": "code",
   "execution_count": 13,
   "id": "e98c33fc",
   "metadata": {},
   "outputs": [],
   "source": [
    "from google.cloud import bigquery\n",
    "\n",
    "# Construct a BigQuery client object.\n",
    "client = bigquery.Client()\n"
   ]
  },
  {
   "cell_type": "code",
   "execution_count": 18,
   "id": "5b029b03-5892-4e9a-9383-973c11be53bd",
   "metadata": {},
   "outputs": [],
   "source": [
    "job_config = bigquery.LoadJobConfig(\n",
    "    write_disposition = 'WRITE_TRUNCATE'\n",
    ")"
   ]
  },
  {
   "cell_type": "code",
   "execution_count": 19,
   "id": "c40234aa-1cd0-4590-b725-72b0d54afdd8",
   "metadata": {},
   "outputs": [
    {
     "data": {
      "text/plain": [
       "LoadJob<project=dulcet-name-296415, location=US, id=4c9292a8-680c-4e1c-b04a-c01928157292>"
      ]
     },
     "execution_count": 19,
     "metadata": {},
     "output_type": "execute_result"
    }
   ],
   "source": [
    "table_ref = \"dulcet-name-296415.nba_test.schedule\"\n",
    "\n",
    "job = client.load_table_from_dataframe(df, table_ref, job_config=job_config, location=\"US\")\n",
    "\n",
    "job.result()  # Waits for table load to complete."
   ]
  },
  {
   "cell_type": "code",
   "execution_count": null,
   "id": "e072cc72-6c90-4acd-bafc-6150efaf9835",
   "metadata": {},
   "outputs": [],
   "source": []
  },
  {
   "cell_type": "code",
   "execution_count": null,
   "id": "87e0afc7-d13c-41e9-9be2-288aa9381e79",
   "metadata": {},
   "outputs": [],
   "source": []
  }
 ],
 "metadata": {
  "environment": {
   "kernel": "python3",
   "name": "common-cpu.m82",
   "type": "gcloud",
   "uri": "gcr.io/deeplearning-platform-release/base-cpu:m82"
  },
  "kernelspec": {
   "display_name": "Python 3",
   "language": "python",
   "name": "python3"
  },
  "language_info": {
   "codemirror_mode": {
    "name": "ipython",
    "version": 3
   },
   "file_extension": ".py",
   "mimetype": "text/x-python",
   "name": "python",
   "nbconvert_exporter": "python",
   "pygments_lexer": "ipython3",
   "version": "3.7.10"
  }
 },
 "nbformat": 4,
 "nbformat_minor": 5
}
