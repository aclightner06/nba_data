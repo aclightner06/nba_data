{
 "cells": [
  {
   "cell_type": "markdown",
   "id": "4ce3da7b",
   "metadata": {},
   "source": [
    "### get_schedule"
   ]
  },
  {
   "cell_type": "code",
   "execution_count": 1,
   "id": "dc597276",
   "metadata": {},
   "outputs": [],
   "source": [
    "from NBA import NBA\n",
    "import threading\n",
    "import time\n",
    "import os\n",
    "import pandas as pd"
   ]
  },
  {
   "cell_type": "code",
   "execution_count": 2,
   "id": "25547e1a",
   "metadata": {},
   "outputs": [],
   "source": [
    "def get_schedule(year, month):\n",
    "    \n",
    "    sch_url = f\"https://www.basketball-reference.com/leagues/NBA_{year}_games-{month}.html\"\n",
    "\n",
    "    sch_col_attrs = {\"column_attrs\": ['thead', 'th'], \"shift\": 0, \"offset\": ['0', None]}\n",
    "    sch_row_attrs = {\"row_attrs\": ['tbody', 'tr'], \"row_offset\": ['0', None]}\n",
    "    sch_data_attrs = {\"data_attrs\": ['th', 'td'], \"data_offset\": 0}\n",
    "    \n",
    "    sch = NBA(url = sch_url, \n",
    "              table_id = 'schedule',\n",
    "              column_schema = sch_col_attrs, \n",
    "              row_schema = sch_row_attrs, \n",
    "              data_schema = sch_data_attrs, \n",
    "              name_change = {6:\"Boxscore\", 7: \"Overtime\"},\n",
    "              use_links=[6],\n",
    "              filter_rows = {\"Date\": \"Playoffs\"})   \n",
    "\n",
    "    sch.df['season'] = year\n",
    "    \n",
    "    if len(sch.df) > 0:\n",
    "        sch.df.to_csv(f\"data/schedule/{year}_{month}.csv\", index=False)"
   ]
  },
  {
   "cell_type": "code",
   "execution_count": 5,
   "id": "66c8b04c",
   "metadata": {},
   "outputs": [],
   "source": [
    "def collapse_files(folder, save):\n",
    "    \n",
    "    final = pd.DataFrame()\n",
    "    \n",
    "    for file in os.listdir(folder):\n",
    "        final = pd.concat([final, pd.read_csv(f\"{folder}/{file}\")])\n",
    "        os.remove(f\"{folder}/{file}\")\n",
    "    \n",
    "    final.to_csv(f\"{folder}/{save}\")"
   ]
  },
  {
   "cell_type": "code",
   "execution_count": 3,
   "id": "a52a01a8",
   "metadata": {
    "collapsed": true,
    "jupyter": {
     "outputs_hidden": true
    }
   },
   "outputs": [
    {
     "name": "stdout",
     "output_type": "stream",
     "text": [
      "Getting 2001 NBA data.\n",
      "Getting 2002 NBA data.\n",
      "Getting 2003 NBA data.\n",
      "Getting 2004 NBA data.\n",
      "Getting 2005 NBA data.\n",
      "Getting 2006 NBA data.\n",
      "Getting 2007 NBA data.\n",
      "Getting 2008 NBA data.\n",
      "Getting 2009 NBA data.\n",
      "Getting 2010 NBA data.\n",
      "Getting 2011 NBA data.\n",
      "Getting 2012 NBA data.\n",
      "Getting 2013 NBA data.\n",
      "Getting 2014 NBA data.\n",
      "Getting 2015 NBA data.\n",
      "Getting 2016 NBA data.\n",
      "Getting 2017 NBA data.\n",
      "Getting 2018 NBA data.\n",
      "Getting 2019 NBA data.\n",
      "Getting 2020 NBA data.\n",
      "Getting 2021 NBA data.\n",
      "Getting 2022 NBA data.\n"
     ]
    },
    {
     "ename": "AttributeError",
     "evalue": "type object 'NBA' has no attribute 'collapse_files'",
     "output_type": "error",
     "traceback": [
      "\u001b[0;31m---------------------------------------------------------------------------\u001b[0m",
      "\u001b[0;31mAttributeError\u001b[0m                            Traceback (most recent call last)",
      "\u001b[0;32m/var/folders/57/wqkzn_gs6rv9tbncpp01dkcw0000gn/T/ipykernel_5571/1519618953.py\u001b[0m in \u001b[0;36m<module>\u001b[0;34m\u001b[0m\n\u001b[1;32m     30\u001b[0m             \u001b[0mexec\u001b[0m\u001b[0;34m(\u001b[0m\u001b[0;34mf\"t_{clean_month}.join()\"\u001b[0m\u001b[0;34m)\u001b[0m\u001b[0;34m\u001b[0m\u001b[0;34m\u001b[0m\u001b[0m\n\u001b[1;32m     31\u001b[0m \u001b[0;34m\u001b[0m\u001b[0m\n\u001b[0;32m---> 32\u001b[0;31m     \u001b[0mNBA\u001b[0m\u001b[0;34m.\u001b[0m\u001b[0mcollapse_files\u001b[0m\u001b[0;34m(\u001b[0m\u001b[0;34m\"data/schedule\"\u001b[0m\u001b[0;34m,\u001b[0m \u001b[0;34m\"nba_schedule.csv\"\u001b[0m\u001b[0;34m)\u001b[0m\u001b[0;34m\u001b[0m\u001b[0;34m\u001b[0m\u001b[0m\n\u001b[0m",
      "\u001b[0;31mAttributeError\u001b[0m: type object 'NBA' has no attribute 'collapse_files'"
     ]
    }
   ],
   "source": [
    "if __name__ == '__main__':\n",
    "    \n",
    "    if not os.path.exists(\"data/schedule\"):\n",
    "        os.makedirs(\"data/schedule\")\n",
    "        \n",
    "    years = list(range(2001, 2023))\n",
    "    \n",
    "    months = [\"october\", \"november\", \"december\", \"january\", \"february\", \"march\", \"april\", \"may\", \"june\"]\n",
    "    \n",
    "    months_2020 = [\"october-2019\", \"november\", \"december\", \"january\", \"february\", \"march\", \"july\",\n",
    "                   \"august\", \"september\", \"october-2020\"]\n",
    "    \n",
    "    months_2021 = [\"december\", \"january\", \"february\", \"march\", \"april\", \"may\", \"june\", \"july\"]\n",
    "    \n",
    "    for year in years:\n",
    "        print(f\"Getting {year} NBA data.\")\n",
    "        \n",
    "        if year == 2021:\n",
    "            loop_months = months_2021\n",
    "        elif year == 2020:\n",
    "            loop_monts = months_2020\n",
    "        else:\n",
    "            loop_months = months\n",
    "        \n",
    "        for month in months:\n",
    "            clean_month = month.replace('-', '')\n",
    "            exec(f\"t_{clean_month} = threading.Thread(target=get_schedule, args=(year, month,))\")\n",
    "            exec(f\"t_{clean_month}.start()\")\n",
    "        for month in months:\n",
    "            exec(f\"t_{clean_month}.join()\")\n",
    "    \n",
    "    print('Collapsing Files') \n",
    "    collapse_files(\"data/schedule\", \"nba_schedule.csv\", index=False)"
   ]
  },
  {
   "cell_type": "markdown",
   "id": "67339b5d",
   "metadata": {},
   "source": [
    "### test"
   ]
  },
  {
   "cell_type": "code",
   "execution_count": 7,
   "id": "bc57e886",
   "metadata": {},
   "outputs": [],
   "source": [
    "import pandas as pd"
   ]
  },
  {
   "cell_type": "code",
   "execution_count": 8,
   "id": "01403d5a",
   "metadata": {},
   "outputs": [],
   "source": [
    "df = pd.read_csv(\"data/schedule/nba_schedule.csv\")"
   ]
  },
  {
   "cell_type": "code",
   "execution_count": 9,
   "id": "76f86ff9",
   "metadata": {},
   "outputs": [
    {
     "name": "stdout",
     "output_type": "stream",
     "text": [
      "<class 'pandas.core.frame.DataFrame'>\n",
      "RangeIndex: 27920 entries, 0 to 27919\n",
      "Data columns (total 13 columns):\n",
      " #   Column           Non-Null Count  Dtype \n",
      "---  ------           --------------  ----- \n",
      " 0   Unnamed: 0       27920 non-null  int64 \n",
      " 1   Date             27920 non-null  object\n",
      " 2   Start (ET)       27920 non-null  object\n",
      " 3   Visitor/Neutral  27920 non-null  object\n",
      " 4   PTS              27920 non-null  int64 \n",
      " 5   Home/Neutral     27920 non-null  object\n",
      " 6   PTS.1            27920 non-null  int64 \n",
      " 7   Boxscore         27920 non-null  object\n",
      " 8   Overtime         1694 non-null   object\n",
      " 9   Attend.          27905 non-null  object\n",
      " 10  Arena            27920 non-null  object\n",
      " 11  Notes            49 non-null     object\n",
      " 12  season           27920 non-null  int64 \n",
      "dtypes: int64(4), object(9)\n",
      "memory usage: 2.8+ MB\n"
     ]
    }
   ],
   "source": [
    "df.info()"
   ]
  },
  {
   "cell_type": "code",
   "execution_count": null,
   "id": "e98c33fc",
   "metadata": {},
   "outputs": [],
   "source": []
  }
 ],
 "metadata": {
  "environment": {
   "kernel": "python3",
   "name": "common-cpu.m82",
   "type": "gcloud",
   "uri": "gcr.io/deeplearning-platform-release/base-cpu:m82"
  },
  "kernelspec": {
   "display_name": "Python 3",
   "language": "python",
   "name": "python3"
  },
  "language_info": {
   "codemirror_mode": {
    "name": "ipython",
    "version": 3
   },
   "file_extension": ".py",
   "mimetype": "text/x-python",
   "name": "python",
   "nbconvert_exporter": "python",
   "pygments_lexer": "ipython3",
   "version": "3.7.10"
  }
 },
 "nbformat": 4,
 "nbformat_minor": 5
}
